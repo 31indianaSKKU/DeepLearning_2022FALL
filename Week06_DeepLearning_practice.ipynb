{
  "nbformat": 4,
  "nbformat_minor": 0,
  "metadata": {
    "colab": {
      "provenance": [],
      "collapsed_sections": [],
      "authorship_tag": "ABX9TyNkiDaTqLgy7P8A7RfzcK6V",
      "include_colab_link": true
    },
    "kernelspec": {
      "name": "python3",
      "display_name": "Python 3"
    },
    "language_info": {
      "name": "python"
    }
  },
  "cells": [
    {
      "cell_type": "markdown",
      "metadata": {
        "id": "view-in-github",
        "colab_type": "text"
      },
      "source": [
        "<a href=\"https://colab.research.google.com/github/31indianaSKKU/DeepLearning_2022FALL/blob/main/Week06_DeepLearning_practice.ipynb\" target=\"_parent\"><img src=\"https://colab.research.google.com/assets/colab-badge.svg\" alt=\"Open In Colab\"/></a>"
      ]
    },
    {
      "cell_type": "code",
      "execution_count": 1,
      "metadata": {
        "id": "7yWBt5-E5IYS"
      },
      "outputs": [],
      "source": [
        " #data load\n",
        " from sklearn.datasets import load_breast_cancer\n"
      ]
    },
    {
      "cell_type": "code",
      "source": [
        "cancer = load_breast_cancer()"
      ],
      "metadata": {
        "id": "W8rx4TG35_Q0"
      },
      "execution_count": 2,
      "outputs": []
    },
    {
      "cell_type": "code",
      "source": [
        "cancer"
      ],
      "metadata": {
        "colab": {
          "base_uri": "https://localhost:8080/"
        },
        "id": "saQFi4Na6DX9",
        "outputId": "e25adbaf-1c8d-4220-c157-985a87c8bd2c"
      },
      "execution_count": 3,
      "outputs": [
        {
          "output_type": "execute_result",
          "data": {
            "text/plain": [
              "{'data': array([[1.799e+01, 1.038e+01, 1.228e+02, ..., 2.654e-01, 4.601e-01,\n",
              "         1.189e-01],\n",
              "        [2.057e+01, 1.777e+01, 1.329e+02, ..., 1.860e-01, 2.750e-01,\n",
              "         8.902e-02],\n",
              "        [1.969e+01, 2.125e+01, 1.300e+02, ..., 2.430e-01, 3.613e-01,\n",
              "         8.758e-02],\n",
              "        ...,\n",
              "        [1.660e+01, 2.808e+01, 1.083e+02, ..., 1.418e-01, 2.218e-01,\n",
              "         7.820e-02],\n",
              "        [2.060e+01, 2.933e+01, 1.401e+02, ..., 2.650e-01, 4.087e-01,\n",
              "         1.240e-01],\n",
              "        [7.760e+00, 2.454e+01, 4.792e+01, ..., 0.000e+00, 2.871e-01,\n",
              "         7.039e-02]]),\n",
              " 'target': array([0, 0, 0, 0, 0, 0, 0, 0, 0, 0, 0, 0, 0, 0, 0, 0, 0, 0, 0, 1, 1, 1,\n",
              "        0, 0, 0, 0, 0, 0, 0, 0, 0, 0, 0, 0, 0, 0, 0, 1, 0, 0, 0, 0, 0, 0,\n",
              "        0, 0, 1, 0, 1, 1, 1, 1, 1, 0, 0, 1, 0, 0, 1, 1, 1, 1, 0, 1, 0, 0,\n",
              "        1, 1, 1, 1, 0, 1, 0, 0, 1, 0, 1, 0, 0, 1, 1, 1, 0, 0, 1, 0, 0, 0,\n",
              "        1, 1, 1, 0, 1, 1, 0, 0, 1, 1, 1, 0, 0, 1, 1, 1, 1, 0, 1, 1, 0, 1,\n",
              "        1, 1, 1, 1, 1, 1, 1, 0, 0, 0, 1, 0, 0, 1, 1, 1, 0, 0, 1, 0, 1, 0,\n",
              "        0, 1, 0, 0, 1, 1, 0, 1, 1, 0, 1, 1, 1, 1, 0, 1, 1, 1, 1, 1, 1, 1,\n",
              "        1, 1, 0, 1, 1, 1, 1, 0, 0, 1, 0, 1, 1, 0, 0, 1, 1, 0, 0, 1, 1, 1,\n",
              "        1, 0, 1, 1, 0, 0, 0, 1, 0, 1, 0, 1, 1, 1, 0, 1, 1, 0, 0, 1, 0, 0,\n",
              "        0, 0, 1, 0, 0, 0, 1, 0, 1, 0, 1, 1, 0, 1, 0, 0, 0, 0, 1, 1, 0, 0,\n",
              "        1, 1, 1, 0, 1, 1, 1, 1, 1, 0, 0, 1, 1, 0, 1, 1, 0, 0, 1, 0, 1, 1,\n",
              "        1, 1, 0, 1, 1, 1, 1, 1, 0, 1, 0, 0, 0, 0, 0, 0, 0, 0, 0, 0, 0, 0,\n",
              "        0, 0, 1, 1, 1, 1, 1, 1, 0, 1, 0, 1, 1, 0, 1, 1, 0, 1, 0, 0, 1, 1,\n",
              "        1, 1, 1, 1, 1, 1, 1, 1, 1, 1, 1, 0, 1, 1, 0, 1, 0, 1, 1, 1, 1, 1,\n",
              "        1, 1, 1, 1, 1, 1, 1, 1, 1, 0, 1, 1, 1, 0, 1, 0, 1, 1, 1, 1, 0, 0,\n",
              "        0, 1, 1, 1, 1, 0, 1, 0, 1, 0, 1, 1, 1, 0, 1, 1, 1, 1, 1, 1, 1, 0,\n",
              "        0, 0, 1, 1, 1, 1, 1, 1, 1, 1, 1, 1, 1, 0, 0, 1, 0, 0, 0, 1, 0, 0,\n",
              "        1, 1, 1, 1, 1, 0, 1, 1, 1, 1, 1, 0, 1, 1, 1, 0, 1, 1, 0, 0, 1, 1,\n",
              "        1, 1, 1, 1, 0, 1, 1, 1, 1, 1, 1, 1, 0, 1, 1, 1, 1, 1, 0, 1, 1, 0,\n",
              "        1, 1, 1, 1, 1, 1, 1, 1, 1, 1, 1, 1, 0, 1, 0, 0, 1, 0, 1, 1, 1, 1,\n",
              "        1, 0, 1, 1, 0, 1, 0, 1, 1, 0, 1, 0, 1, 1, 1, 1, 1, 1, 1, 1, 0, 0,\n",
              "        1, 1, 1, 1, 1, 1, 0, 1, 1, 1, 1, 1, 1, 1, 1, 1, 1, 0, 1, 1, 1, 1,\n",
              "        1, 1, 1, 0, 1, 0, 1, 1, 0, 1, 1, 1, 1, 1, 0, 0, 1, 0, 1, 0, 1, 1,\n",
              "        1, 1, 1, 0, 1, 1, 0, 1, 0, 1, 0, 0, 1, 1, 1, 0, 1, 1, 1, 1, 1, 1,\n",
              "        1, 1, 1, 1, 1, 0, 1, 0, 0, 1, 1, 1, 1, 1, 1, 1, 1, 1, 1, 1, 1, 1,\n",
              "        1, 1, 1, 1, 1, 1, 1, 1, 1, 1, 1, 1, 0, 0, 0, 0, 0, 0, 1]),\n",
              " 'frame': None,\n",
              " 'target_names': array(['malignant', 'benign'], dtype='<U9'),\n",
              " 'DESCR': '.. _breast_cancer_dataset:\\n\\nBreast cancer wisconsin (diagnostic) dataset\\n--------------------------------------------\\n\\n**Data Set Characteristics:**\\n\\n    :Number of Instances: 569\\n\\n    :Number of Attributes: 30 numeric, predictive attributes and the class\\n\\n    :Attribute Information:\\n        - radius (mean of distances from center to points on the perimeter)\\n        - texture (standard deviation of gray-scale values)\\n        - perimeter\\n        - area\\n        - smoothness (local variation in radius lengths)\\n        - compactness (perimeter^2 / area - 1.0)\\n        - concavity (severity of concave portions of the contour)\\n        - concave points (number of concave portions of the contour)\\n        - symmetry\\n        - fractal dimension (\"coastline approximation\" - 1)\\n\\n        The mean, standard error, and \"worst\" or largest (mean of the three\\n        worst/largest values) of these features were computed for each image,\\n        resulting in 30 features.  For instance, field 0 is Mean Radius, field\\n        10 is Radius SE, field 20 is Worst Radius.\\n\\n        - class:\\n                - WDBC-Malignant\\n                - WDBC-Benign\\n\\n    :Summary Statistics:\\n\\n    ===================================== ====== ======\\n                                           Min    Max\\n    ===================================== ====== ======\\n    radius (mean):                        6.981  28.11\\n    texture (mean):                       9.71   39.28\\n    perimeter (mean):                     43.79  188.5\\n    area (mean):                          143.5  2501.0\\n    smoothness (mean):                    0.053  0.163\\n    compactness (mean):                   0.019  0.345\\n    concavity (mean):                     0.0    0.427\\n    concave points (mean):                0.0    0.201\\n    symmetry (mean):                      0.106  0.304\\n    fractal dimension (mean):             0.05   0.097\\n    radius (standard error):              0.112  2.873\\n    texture (standard error):             0.36   4.885\\n    perimeter (standard error):           0.757  21.98\\n    area (standard error):                6.802  542.2\\n    smoothness (standard error):          0.002  0.031\\n    compactness (standard error):         0.002  0.135\\n    concavity (standard error):           0.0    0.396\\n    concave points (standard error):      0.0    0.053\\n    symmetry (standard error):            0.008  0.079\\n    fractal dimension (standard error):   0.001  0.03\\n    radius (worst):                       7.93   36.04\\n    texture (worst):                      12.02  49.54\\n    perimeter (worst):                    50.41  251.2\\n    area (worst):                         185.2  4254.0\\n    smoothness (worst):                   0.071  0.223\\n    compactness (worst):                  0.027  1.058\\n    concavity (worst):                    0.0    1.252\\n    concave points (worst):               0.0    0.291\\n    symmetry (worst):                     0.156  0.664\\n    fractal dimension (worst):            0.055  0.208\\n    ===================================== ====== ======\\n\\n    :Missing Attribute Values: None\\n\\n    :Class Distribution: 212 - Malignant, 357 - Benign\\n\\n    :Creator:  Dr. William H. Wolberg, W. Nick Street, Olvi L. Mangasarian\\n\\n    :Donor: Nick Street\\n\\n    :Date: November, 1995\\n\\nThis is a copy of UCI ML Breast Cancer Wisconsin (Diagnostic) datasets.\\nhttps://goo.gl/U2Uwz2\\n\\nFeatures are computed from a digitized image of a fine needle\\naspirate (FNA) of a breast mass.  They describe\\ncharacteristics of the cell nuclei present in the image.\\n\\nSeparating plane described above was obtained using\\nMultisurface Method-Tree (MSM-T) [K. P. Bennett, \"Decision Tree\\nConstruction Via Linear Programming.\" Proceedings of the 4th\\nMidwest Artificial Intelligence and Cognitive Science Society,\\npp. 97-101, 1992], a classification method which uses linear\\nprogramming to construct a decision tree.  Relevant features\\nwere selected using an exhaustive search in the space of 1-4\\nfeatures and 1-3 separating planes.\\n\\nThe actual linear program used to obtain the separating plane\\nin the 3-dimensional space is that described in:\\n[K. P. Bennett and O. L. Mangasarian: \"Robust Linear\\nProgramming Discrimination of Two Linearly Inseparable Sets\",\\nOptimization Methods and Software 1, 1992, 23-34].\\n\\nThis database is also available through the UW CS ftp server:\\n\\nftp ftp.cs.wisc.edu\\ncd math-prog/cpo-dataset/machine-learn/WDBC/\\n\\n.. topic:: References\\n\\n   - W.N. Street, W.H. Wolberg and O.L. Mangasarian. Nuclear feature extraction \\n     for breast tumor diagnosis. IS&T/SPIE 1993 International Symposium on \\n     Electronic Imaging: Science and Technology, volume 1905, pages 861-870,\\n     San Jose, CA, 1993.\\n   - O.L. Mangasarian, W.N. Street and W.H. Wolberg. Breast cancer diagnosis and \\n     prognosis via linear programming. Operations Research, 43(4), pages 570-577, \\n     July-August 1995.\\n   - W.H. Wolberg, W.N. Street, and O.L. Mangasarian. Machine learning techniques\\n     to diagnose breast cancer from fine-needle aspirates. Cancer Letters 77 (1994) \\n     163-171.',\n",
              " 'feature_names': array(['mean radius', 'mean texture', 'mean perimeter', 'mean area',\n",
              "        'mean smoothness', 'mean compactness', 'mean concavity',\n",
              "        'mean concave points', 'mean symmetry', 'mean fractal dimension',\n",
              "        'radius error', 'texture error', 'perimeter error', 'area error',\n",
              "        'smoothness error', 'compactness error', 'concavity error',\n",
              "        'concave points error', 'symmetry error',\n",
              "        'fractal dimension error', 'worst radius', 'worst texture',\n",
              "        'worst perimeter', 'worst area', 'worst smoothness',\n",
              "        'worst compactness', 'worst concavity', 'worst concave points',\n",
              "        'worst symmetry', 'worst fractal dimension'], dtype='<U23'),\n",
              " 'filename': 'breast_cancer.csv',\n",
              " 'data_module': 'sklearn.datasets.data'}"
            ]
          },
          "metadata": {},
          "execution_count": 3
        }
      ]
    },
    {
      "cell_type": "code",
      "source": [
        "type(cancer)"
      ],
      "metadata": {
        "colab": {
          "base_uri": "https://localhost:8080/"
        },
        "id": "-vPv8I7C-Jvx",
        "outputId": "fd582280-4581-44f0-ab48-e40811eefa22"
      },
      "execution_count": 4,
      "outputs": [
        {
          "output_type": "execute_result",
          "data": {
            "text/plain": [
              "sklearn.utils.Bunch"
            ]
          },
          "metadata": {},
          "execution_count": 4
        }
      ]
    },
    {
      "cell_type": "code",
      "source": [],
      "metadata": {
        "id": "8iCWHfPG-Lrl"
      },
      "execution_count": 4,
      "outputs": []
    },
    {
      "cell_type": "code",
      "source": [
        "print(cancer.data.shape, cancer.target.shape)"
      ],
      "metadata": {
        "colab": {
          "base_uri": "https://localhost:8080/"
        },
        "id": "R3WhxrOH6Ejg",
        "outputId": "06c25045-1b51-47f1-c20e-f1ba445b6d9a"
      },
      "execution_count": 5,
      "outputs": [
        {
          "output_type": "stream",
          "name": "stdout",
          "text": [
            "(569, 30) (569,)\n"
          ]
        }
      ]
    },
    {
      "cell_type": "code",
      "source": [
        "cancer.data[:2] #0,1번째 행을 출력하라!!(주의 2빼고 0,1)"
      ],
      "metadata": {
        "colab": {
          "base_uri": "https://localhost:8080/"
        },
        "id": "I5XgskS86Osn",
        "outputId": "b6a43fde-dee7-4f93-c48e-df2a29dd32ed"
      },
      "execution_count": 6,
      "outputs": [
        {
          "output_type": "execute_result",
          "data": {
            "text/plain": [
              "array([[1.799e+01, 1.038e+01, 1.228e+02, 1.001e+03, 1.184e-01, 2.776e-01,\n",
              "        3.001e-01, 1.471e-01, 2.419e-01, 7.871e-02, 1.095e+00, 9.053e-01,\n",
              "        8.589e+00, 1.534e+02, 6.399e-03, 4.904e-02, 5.373e-02, 1.587e-02,\n",
              "        3.003e-02, 6.193e-03, 2.538e+01, 1.733e+01, 1.846e+02, 2.019e+03,\n",
              "        1.622e-01, 6.656e-01, 7.119e-01, 2.654e-01, 4.601e-01, 1.189e-01],\n",
              "       [2.057e+01, 1.777e+01, 1.329e+02, 1.326e+03, 8.474e-02, 7.864e-02,\n",
              "        8.690e-02, 7.017e-02, 1.812e-01, 5.667e-02, 5.435e-01, 7.339e-01,\n",
              "        3.398e+00, 7.408e+01, 5.225e-03, 1.308e-02, 1.860e-02, 1.340e-02,\n",
              "        1.389e-02, 3.532e-03, 2.499e+01, 2.341e+01, 1.588e+02, 1.956e+03,\n",
              "        1.238e-01, 1.866e-01, 2.416e-01, 1.860e-01, 2.750e-01, 8.902e-02]])"
            ]
          },
          "metadata": {},
          "execution_count": 6
        }
      ]
    },
    {
      "cell_type": "code",
      "source": [],
      "metadata": {
        "id": "uV2UorSC-SrE"
      },
      "execution_count": 6,
      "outputs": []
    },
    {
      "cell_type": "code",
      "source": [],
      "metadata": {
        "id": "HuuMm8y6-Rc9"
      },
      "execution_count": 6,
      "outputs": []
    },
    {
      "cell_type": "code",
      "source": [
        "#데이터 분포 확인(박스플롯)\n",
        "import matplotlib.pyplot as plt\n",
        "\n",
        "plt.boxplot(cancer.data)\n",
        "plt.xlabel('Feature')\n",
        "plt.ylabel('Value')\n",
        "plt.show()"
      ],
      "metadata": {
        "colab": {
          "base_uri": "https://localhost:8080/",
          "height": 279
        },
        "id": "zJnQoZcI66_X",
        "outputId": "696d7841-1540-4cdf-c93c-a154fefa9f24"
      },
      "execution_count": 7,
      "outputs": [
        {
          "output_type": "display_data",
          "data": {
            "text/plain": [
              "<Figure size 432x288 with 1 Axes>"
            ],
            "image/png": "[encoded data removed]"
          },
          "metadata": {
            "needs_background": "light"
          }
        }
      ]
    },
    {
      "cell_type": "code",
      "source": [
        "cancer.feature_names[[3,13,23]]  #위의 그림에서 분포가 넓은 변수 확인"
      ],
      "metadata": {
        "colab": {
          "base_uri": "https://localhost:8080/"
        },
        "id": "5kT40Mji8fWr",
        "outputId": "7cbb7f1b-5ccb-4006-ef98-1149c8295b6d"
      },
      "execution_count": 8,
      "outputs": [
        {
          "output_type": "execute_result",
          "data": {
            "text/plain": [
              "array(['mean area', 'area error', 'worst area'], dtype='<U23')"
            ]
          },
          "metadata": {},
          "execution_count": 8
        }
      ]
    },
    {
      "cell_type": "code",
      "source": [
        "#target 데이터 확인\n",
        "import numpy as np"
      ],
      "metadata": {
        "id": "3eLuYtNp8_mQ"
      },
      "execution_count": 9,
      "outputs": []
    },
    {
      "cell_type": "code",
      "source": [
        "np.unique(cancer.target, return_counts=True)"
      ],
      "metadata": {
        "colab": {
          "base_uri": "https://localhost:8080/"
        },
        "id": "JVsG7GBM9Iz3",
        "outputId": "57ae9e8f-2b3d-409c-cc2b-242ba1a833e0"
      },
      "execution_count": 10,
      "outputs": [
        {
          "output_type": "execute_result",
          "data": {
            "text/plain": [
              "(array([0, 1]), array([212, 357]))"
            ]
          },
          "metadata": {},
          "execution_count": 10
        }
      ]
    },
    {
      "cell_type": "code",
      "source": [
        "#training set 준비"
      ],
      "metadata": {
        "id": "-GWL4pDH9Ozd"
      },
      "execution_count": 11,
      "outputs": []
    },
    {
      "cell_type": "code",
      "source": [
        "x = cancer.data\n",
        "y = cancer.target"
      ],
      "metadata": {
        "id": "OKp9c2-J808r"
      },
      "execution_count": 12,
      "outputs": []
    },
    {
      "cell_type": "code",
      "source": [
        "#A Neuron for logistic Regression"
      ],
      "metadata": {
        "id": "KYTpUvJN_SS-"
      },
      "execution_count": 13,
      "outputs": []
    },
    {
      "cell_type": "code",
      "source": [
        "#Training and Test sets\n",
        "from sklearn.model_selection import train_test_split"
      ],
      "metadata": {
        "id": "xTNP8rKK8bqO"
      },
      "execution_count": 14,
      "outputs": []
    },
    {
      "cell_type": "code",
      "source": [
        "x_train, x_test, y_train, y_test = train_test_split(\n",
        "    x, y, stratify=y, test_size=0.2, random_state=42)  #stratify:train과 test set의 음성/양성 비율 동일하게. test_size=0.2: train 80: test 20"
      ],
      "metadata": {
        "id": "qrC_v79CBv31"
      },
      "execution_count": 15,
      "outputs": []
    },
    {
      "cell_type": "code",
      "source": [
        "print(x_train.shape, x_test.shape)\n",
        "print(y_train.shape, y_test.shape)"
      ],
      "metadata": {
        "colab": {
          "base_uri": "https://localhost:8080/"
        },
        "id": "3jR7wPZuCNj6",
        "outputId": "ede7096b-79f9-4cbc-9c55-5b7895408255"
      },
      "execution_count": 16,
      "outputs": [
        {
          "output_type": "stream",
          "name": "stdout",
          "text": [
            "(455, 30) (114, 30)\n",
            "(455,) (114,)\n"
          ]
        }
      ]
    },
    {
      "cell_type": "code",
      "source": [
        "np.unique(y_train, return_counts=True)  #y_train의 음성과 양성 갯수 파악"
      ],
      "metadata": {
        "colab": {
          "base_uri": "https://localhost:8080/"
        },
        "id": "ie830PFxCWn_",
        "outputId": "12642fd4-9ba0-40d5-f61c-72f30c96968d"
      },
      "execution_count": 17,
      "outputs": [
        {
          "output_type": "execute_result",
          "data": {
            "text/plain": [
              "(array([0, 1]), array([170, 285]))"
            ]
          },
          "metadata": {},
          "execution_count": 17
        }
      ]
    },
    {
      "cell_type": "code",
      "source": [
        "#Logistic Neuron Calss"
      ],
      "metadata": {
        "id": "sZ9wvIYwCvU_"
      },
      "execution_count": 18,
      "outputs": []
    },
    {
      "cell_type": "code",
      "source": [
        "class LogisticNeuron:\n",
        "  def __init__(self):\n",
        "    self.w = None\n",
        "    self.b = None\n",
        "  \n",
        "  def fwpass(self, x):\n",
        "    z = np.sum(x*self.w) + self.b\n",
        "    return z\n",
        "  \n",
        "  def bwpass(self, x, err):    #err은 어디서 나왔나?\n",
        "    w_grad = x*err\n",
        "    b_grad = 1*err\n",
        "    return w_grad, b_grad\n",
        "\n",
        "#fit() method\n",
        "  def fit(self, x, y, epochs=100):\n",
        "    self.w = np.ones(x.shape[1])   #1로 초기화\n",
        "    self.b = 0\n",
        "\n",
        "    for i in range(epochs):    #위에서 epochs=100으로 설정했으므로 100번 돌리겠다는 의미\n",
        "      for x_i, y_i in zip(x, y):   #모든 sample만큼 반복\n",
        "        z = self.fwpass(x_i)\n",
        "        a = self.activation(z)\n",
        "        err = -(y_i - a)\n",
        "        w_grad, b_grad = self.bwpass(x_i, err)\n",
        "        self.w -= w_grad         #가중치 update\n",
        "        self.b -= b_grad         #절편 update\n",
        "  \n",
        "  def activation(self, z):\n",
        "    a = 1 / (1+np.exp(-z))\n",
        "    return a\n",
        "\n",
        "#predict() method\n",
        "  def predict(self, x): \n",
        "     z = [self.fwpass(x_i) for x_i in x]\n",
        "     print(z)\n",
        "     a = self.activation(np.array(z))\n",
        "     return a > 0.5\n"
      ],
      "metadata": {
        "id": "J7aLjG_l8RsU"
      },
      "execution_count": 37,
      "outputs": []
    },
    {
      "cell_type": "code",
      "source": [],
      "metadata": {
        "id": "MChc0MpcEBBO"
      },
      "execution_count": 31,
      "outputs": []
    },
    {
      "cell_type": "code",
      "source": [
        "#Model training"
      ],
      "metadata": {
        "id": "PBPTm0BUHScX"
      },
      "execution_count": 25,
      "outputs": []
    },
    {
      "cell_type": "code",
      "source": [
        "neuron = LogisticNeuron()\n",
        "neuron.fit(x_train, y_train)\n",
        "\n",
        "np.mean(neuron.predict(x_test) == y_test)"
      ],
      "metadata": {
        "id": "aIqDonzx8Tc2",
        "colab": {
          "base_uri": "https://localhost:8080/"
        },
        "outputId": "33d392de-080d-4ffe-af15-4bb214c9c078"
      },
      "execution_count": 41,
      "outputs": [
        {
          "output_type": "stream",
          "name": "stderr",
          "text": [
            "/usr/local/lib/python3.7/dist-packages/ipykernel_launcher.py:29: RuntimeWarning: overflow encountered in exp\n"
          ]
        },
        {
          "output_type": "stream",
          "name": "stdout",
          "text": [
            "[-6152990.780231503, 857527.5207715916, -579999.8615069335, -946707.6105733241, -6444713.369966477, -156865.71815316824, 676593.4518434979, -3086885.9657221767, -3721201.5176540078, -4609433.343285262, 468475.5293529281, -2136417.8545737807, 415154.2628799699, -4216385.062095479, -2123429.0625964287, -28673.457251995154, -175696.8788437751, 653451.7464674537, -128923.38152522735, 712670.0693753185, -1823448.6483179578, -2139336.1964246426, 472001.0380704406, 709474.915699541, 19385.46768526401, -553007.5958728864, -10888342.685705654, 452323.51608229085, 596623.3790249863, -78150.23735789268, 362492.1871916584, 556595.1660168639, 531838.7948059817, 250539.0984914159, -4480642.10534445, 242700.2950531245, 674227.2743140688, 538062.6363229302, -170702.7262221559, -4609354.444289788, 562896.0199215814, 468964.6470554, 186883.43344184788, -7857714.3203858575, -1887770.9252846225, -833181.0540188048, 912779.105867529, 955320.0449820554, 185398.64270456767, -2728979.745154124, 429904.8743821448, -449969.4464590527, 915669.1180896519, -661339.9631575508, 131231.9424516577, 875788.5190992361, 626960.8059281158, -2854143.106866815, -5707524.823372821, 574428.3263582911, 60025.42565592658, 924387.1478568631, 303906.6038154744, 998.4705222964301, -5306347.807277147, -48428.89930314598, -132762.98372022403, 329115.7881273947, -275713.1289865331, 57436.743318679735, 788092.9978964977, 385535.1079165917, 787721.5963911465, -3841741.2209627624, -1835441.0562571809, -4431993.947580839, 270367.32184389717, 225451.60619690965, 736951.0869412506, -75457.68683567358, -450709.4993149544, 657763.6502873217, -6313001.038294363, 717337.574535616, -1354880.927396258, 340842.12084824673, 43273.89064115866, 502402.5986806364, -303378.28185103135, -45509.12922239082, 23347.29888570728, 52002.990264027874, -4869529.252251603, -3943164.7134650755, -1591898.2809201183, 958668.7049031792, -6073465.327940929, 368516.79690531094, -3376368.881808362, -582224.1967632152, -3717397.1015748153, -10291999.894240148, 360108.6256160138, 384165.0651168961, -11420203.112662748, -21998427.350546006, 478507.37943601195, -4297809.363614629, 984875.240076044, -4735866.853694143, 97603.3093177921, -982542.6336286445, 60647.478530393, 115617.98815918482]\n"
          ]
        },
        {
          "output_type": "execute_result",
          "data": {
            "text/plain": [
              "0.8245614035087719"
            ]
          },
          "metadata": {},
          "execution_count": 41
        }
      ]
    },
    {
      "cell_type": "code",
      "source": [],
      "metadata": {
        "id": "asCBeEl2tc2g"
      },
      "execution_count": null,
      "outputs": []
    },
    {
      "cell_type": "code",
      "source": [
        "#Loss Function"
      ],
      "metadata": {
        "id": "3jKNPEONrPDF"
      },
      "execution_count": null,
      "outputs": []
    },
    {
      "cell_type": "code",
      "source": [
        "def __init__(self):  \n",
        "  self.w = None \n",
        "  self.b= None \n",
        "  self.losses=[]"
      ],
      "metadata": {
        "id": "ZSlfvlS0LKb7"
      },
      "execution_count": 118,
      "outputs": []
    },
    {
      "cell_type": "code",
      "source": [
        "\"\"\"class SinglelayerNN:\n",
        " def fit(self,x,y,epochs=100):\n",
        "  for i in range(epochs):\n",
        "    for i in index:\n",
        "      z = self.fwpass(x[i])\n",
        "      a = self.activation(z) \n",
        "      err=-(y[i]-a)\n",
        "      w_grad,b_grad=self.bwpass(x[i],err) \n",
        "      self.w-=w_grad\n",
        "      self.b-=b_grad\n",
        "      #안전한로그계산을위해clipping한후loss를누적함\n",
        "      a=np.clip(a,1e-10,1-1e-10)\n",
        "      loss+= -(y[i]*np.log(a)+(1-y[i])*np.log(1-a))\n",
        "    self.losses.append(loss/len(y))\n",
        "\"\"\""
      ],
      "metadata": {
        "id": "fQweV5kRH0SJ"
      },
      "execution_count": 101,
      "outputs": []
    },
    {
      "cell_type": "code",
      "source": [],
      "metadata": {
        "id": "Rr6rIizLyta_"
      },
      "execution_count": null,
      "outputs": []
    },
    {
      "cell_type": "code",
      "source": [
        "class SingleLayerNN:\n",
        "  #Loss Function\n",
        "  def __init__(self):  \n",
        "    self.w = None \n",
        "    self.b= None \n",
        "    self.losses=[]\n",
        " \n",
        " #Random permutation for training samples\n",
        "  def fwpass(self, x):\n",
        "    z = np.sum(x*self.w) + self.b\n",
        "    return z\n",
        "  \n",
        "  def bwpass(self, x, err):    #err은 어디서 나왔나?\n",
        "    w_grad = x*err\n",
        "    b_grad = 1*err\n",
        "    return w_grad, b_grad\n",
        "\n",
        "#fit() method\n",
        "  def fit(self,x,y,epochs=100): \n",
        "    self.w = np.ones(x.shape[1])\n",
        "    self.b = 0\n",
        "\n",
        "    for i in range(epochs):\n",
        "      loss = 0\n",
        "      indexes = np.random.permutation(np.arange(len(x)))\n",
        "      for i in indexes:\n",
        "        z = self.fwpass(x[i])\n",
        "        a = self.activation(z) \n",
        "        err=-(y[i]-a)\n",
        "        w_grad,b_grad=self.bwpass(x[i],err) \n",
        "        self.w-=w_grad\n",
        "        self.b-=b_grad\n",
        "        #안전한로그계산을위해clipping한후loss를누적함\n",
        "        a =np.clip(a,1e-10,1-1e-10)\n",
        "        loss += -(y[i]*np.log(a)+(1-y[i])*np.log(1-a))\n",
        "      self.losses.append(loss/len(y))\n",
        "  \n",
        "  def activation(self, z):\n",
        "    a = 1 / (1+np.exp(-z))\n",
        "    return a\n",
        "\n",
        "#predict() method\n",
        "  def predict(self, x): \n",
        "     z = [self.fwpass(x_i) for x_i in x]\n",
        "     print(z)\n",
        "     a = self.activation(np.array(z))\n",
        "     return a > 0.5\n",
        "\n",
        "#score method\n",
        "  def score(self,x,y):\n",
        "    return np.mean(self.predict(x)==y)"
      ],
      "metadata": {
        "id": "ulaVCafsNAFC"
      },
      "execution_count": 126,
      "outputs": []
    },
    {
      "cell_type": "code",
      "source": [
        "#Training a singlelayerNN"
      ],
      "metadata": {
        "id": "TV-4f-tTt9OD"
      },
      "execution_count": null,
      "outputs": []
    },
    {
      "cell_type": "code",
      "source": [
        "layer = SingleLayerNN()"
      ],
      "metadata": {
        "id": "190Pucn4Ny8r"
      },
      "execution_count": 127,
      "outputs": []
    },
    {
      "cell_type": "code",
      "source": [
        "layer.fit(x_train, y_train)\n"
      ],
      "metadata": {
        "id": "XVcxu4sZPmmU",
        "colab": {
          "base_uri": "https://localhost:8080/"
        },
        "outputId": "3ac0c8b9-7103-410b-e893-9e7b15c7046c"
      },
      "execution_count": 128,
      "outputs": [
        {
          "output_type": "stream",
          "name": "stderr",
          "text": [
            "/usr/local/lib/python3.7/dist-packages/ipykernel_launcher.py:39: RuntimeWarning: overflow encountered in exp\n"
          ]
        }
      ]
    },
    {
      "cell_type": "code",
      "source": [
        "layer.score(x_test,y_test)"
      ],
      "metadata": {
        "colab": {
          "base_uri": "https://localhost:8080/"
        },
        "id": "qX8W4IgyzHtD",
        "outputId": "fe6b657e-6622-450f-f20d-dd495caeec51"
      },
      "execution_count": 129,
      "outputs": [
        {
          "output_type": "stream",
          "name": "stdout",
          "text": [
            "[-6481192.081405532, 1200863.2390921004, -372912.16876012005, -539016.8330576081, -6544679.77032952, 123593.42270908649, 834529.9334838653, -2786054.4772691997, -3662708.477739626, -4584038.818838898, 849121.649756152, -2150962.0726698483, 752930.4088381784, -4248746.711239702, -2112003.6611468852, 403977.469893436, 183368.6839868517, 935526.428350372, 193009.70389888427, 999885.7777369003, -1677383.8692342313, -1877383.6234147132, 634105.2367029084, 997876.6306315626, 135251.92837617535, -92208.6199272503, -11849703.529180406, 739963.4089834404, 823472.8313580826, -41451.219937963855, 702772.4737986982, 823674.7887073398, 837617.3393074016, 640764.4250420135, -4563498.077252041, 416022.4216314243, 1004310.6912780881, 826272.5330137523, 108600.44930442478, -4701223.247021236, 768740.5172540146, 796435.5899736957, 531214.2941398747, -8973841.733561825, -2024129.2985812253, -605695.5850601764, 1148343.4057769564, 1230309.5887571902, 775602.0866662824, -2529375.366022767, 794595.9397364176, -122651.96737876147, 1244445.6841610924, -451844.76310057123, 428032.4745095069, 1276779.4873386347, 1000322.7126909067, -2800785.0381534267, -6174533.8402558165, 888009.958555248, 271526.1076148389, 1159537.2391220182, 725253.4487717511, 362063.787700422, -5673671.864623674, 350249.9937532408, 279630.2062355574, 680509.4902278282, -97900.4022914476, 317451.93196239305, 1111988.9292855097, 765886.600920985, 1038775.7073775122, -3938016.07597167, -1655515.6808667756, -4260636.143312402, 716109.75840937, 650660.3891871325, 994227.9111382114, 351179.26308294095, -303148.66291672655, 896421.9086457065, -6704634.596021253, 1035086.9844962198, -1140405.6259650707, 751421.7244524625, 389715.29528846405, 578773.9770449662, -144895.6414844543, 268683.10788198403, 360058.0787257743, 311992.48461920576, -4789675.067007292, -3690095.470676457, -1068326.0439662044, 1309542.6738386229, -6162293.299775237, 633294.3498779094, -3733213.433915746, -296342.3927896152, -3581240.9120304603, -11689595.25063531, 737330.8674847912, 687970.0488925087, -11614117.07264725, -24354701.751034193, 889318.7802395544, -4262797.010103215, 1207996.0370920615, -4676369.1436949475, 526725.6205613834, -756963.2500672621, 331738.5188587888, 322689.5546503311]\n"
          ]
        },
        {
          "output_type": "stream",
          "name": "stderr",
          "text": [
            "/usr/local/lib/python3.7/dist-packages/ipykernel_launcher.py:39: RuntimeWarning: overflow encountered in exp\n"
          ]
        },
        {
          "output_type": "execute_result",
          "data": {
            "text/plain": [
              "0.8859649122807017"
            ]
          },
          "metadata": {},
          "execution_count": 129
        }
      ]
    },
    {
      "cell_type": "code",
      "source": [
        "plt.plot(layer.losses)\n",
        "plt.xlabel('epoch')\n",
        "plt.ylabel('loss') \n",
        "plt.show()"
      ],
      "metadata": {
        "id": "aCOaIEzmNxhY",
        "colab": {
          "base_uri": "https://localhost:8080/",
          "height": 279
        },
        "outputId": "11526e86-9a20-4abc-d8cb-cf2c85a9e689"
      },
      "execution_count": 130,
      "outputs": [
        {
          "output_type": "display_data",
          "data": {
            "text/plain": [
              "<Figure size 432x288 with 1 Axes>"
            ],
            "image/png": "[encoded data removed]"
          },
          "metadata": {
            "needs_background": "light"
          }
        }
      ]
    },
    {
      "cell_type": "code",
      "source": [],
      "metadata": {
        "id": "_N0cG0DaNnx3"
      },
      "execution_count": null,
      "outputs": []
    },
    {
      "cell_type": "code",
      "source": [
        "#Logistic Regression with scikit-learn\n",
        "from sklearn.linear_model import SGDClassifier\n",
        "\n",
        "sgd = SGDClassifier(loss='log', max_iter=100, tol=1e-3, random_state=0)"
      ],
      "metadata": {
        "id": "zs78ZPI2M-A8"
      },
      "execution_count": 52,
      "outputs": []
    },
    {
      "cell_type": "code",
      "source": [
        "sgd.fit(x_train, y_train)\n",
        "sgd.score(x_test, y_test)"
      ],
      "metadata": {
        "colab": {
          "base_uri": "https://localhost:8080/"
        },
        "id": "_iamm5UtvYeB",
        "outputId": "f4f218ba-8ff8-4b16-91b7-2147e7003828"
      },
      "execution_count": 54,
      "outputs": [
        {
          "output_type": "execute_result",
          "data": {
            "text/plain": [
              "0.9298245614035088"
            ]
          },
          "metadata": {},
          "execution_count": 54
        }
      ]
    },
    {
      "cell_type": "code",
      "source": [
        "#prediction with scikit-learn\n",
        "sgd.predict(x_test[0:10])"
      ],
      "metadata": {
        "colab": {
          "base_uri": "https://localhost:8080/"
        },
        "id": "0J6IRYYIvfqq",
        "outputId": "4480d964-39bc-49ba-93d8-7312a0db167f"
      },
      "execution_count": 55,
      "outputs": [
        {
          "output_type": "execute_result",
          "data": {
            "text/plain": [
              "array([0, 1, 1, 1, 0, 1, 1, 0, 0, 0])"
            ]
          },
          "metadata": {},
          "execution_count": 55
        }
      ]
    },
    {
      "cell_type": "code",
      "source": [
        "y_test[0:10]"
      ],
      "metadata": {
        "colab": {
          "base_uri": "https://localhost:8080/"
        },
        "id": "ISayB6R5vqcc",
        "outputId": "3504498d-6f64-460b-8b0a-8f73a731df9c"
      },
      "execution_count": 56,
      "outputs": [
        {
          "output_type": "execute_result",
          "data": {
            "text/plain": [
              "array([0, 1, 0, 1, 0, 1, 1, 0, 0, 0])"
            ]
          },
          "metadata": {},
          "execution_count": 56
        }
      ]
    }
  ]
}