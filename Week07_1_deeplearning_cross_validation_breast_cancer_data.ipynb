{
  "nbformat": 4,
  "nbformat_minor": 0,
  "metadata": {
    "colab": {
      "provenance": [],
      "collapsed_sections": [],
      "authorship_tag": "ABX9TyMSoaf1cPMzUuMOPtuoFZJl",
      "include_colab_link": true
    },
    "kernelspec": {
      "name": "python3",
      "display_name": "Python 3"
    },
    "language_info": {
      "name": "python"
    }
  },
  "cells": [
    {
      "cell_type": "markdown",
      "metadata": {
        "id": "view-in-github",
        "colab_type": "text"
      },
      "source": [
        "<a href=\"https://colab.research.google.com/github/31indianaSKKU/DeepLearning_2022FALL/blob/main/Week07_1_deeplearning_cross_validation_breast_cancer_data.ipynb\" target=\"_parent\"><img src=\"https://colab.research.google.com/assets/colab-badge.svg\" alt=\"Open In Colab\"/></a>"
      ]
    },
    {
      "cell_type": "code",
      "execution_count": null,
      "metadata": {
        "id": "YCvcYmjWJRrL"
      },
      "outputs": [],
      "source": [
        "#Model tuning with test set\n",
        "\n",
        "from sklearn.datasets import load_breast_cancer\n",
        "from sklearn.model_selection import train_test_split\n",
        "cancer = load_breast_cancer()\n",
        "x = cancer.data\n",
        "y = cancer.target\n",
        "x_train_all, x_test, y_train_all, y_test = train_test_split(x, y, stratify =y, test_size=0.2, random_state=42)"
      ]
    },
    {
      "cell_type": "code",
      "source": [
        "# Model tuning with test set(log loss)\n",
        "\n",
        "from sklearn.linear_model import SGDClassifier   \n",
        "sgd=SGDClassifier(loss='log',random_state=42)    #로지스틱 회귀\n",
        "sgd.fit(x_train_all, y_train_all)\n",
        "sgd.score(x_test, y_test)"
      ],
      "metadata": {
        "id": "M2BRS1UnTr-Z",
        "colab": {
          "base_uri": "https://localhost:8080/"
        },
        "outputId": "4683a5aa-cf31-472c-d3d4-3bb6b9bf516b"
      },
      "execution_count": null,
      "outputs": [
        {
          "output_type": "execute_result",
          "data": {
            "text/plain": [
              "0.8333333333333334"
            ]
          },
          "metadata": {},
          "execution_count": 4
        }
      ]
    },
    {
      "cell_type": "code",
      "source": [
        "# Model tuning with test set(hinge loss)\n",
        "\n",
        "from sklearn.linear_model import SGDClassifier\n",
        "sgd=SGDClassifier(loss='hinge',random_state=42)    #SVM\n",
        "sgd.fit(x_train_all, y_train_all)\n",
        "sgd.score(x_test, y_test)"
      ],
      "metadata": {
        "id": "SiHp3zM0T-wR",
        "colab": {
          "base_uri": "https://localhost:8080/"
        },
        "outputId": "fba7f120-ee8e-4369-8748-828f843e4374"
      },
      "execution_count": null,
      "outputs": [
        {
          "output_type": "execute_result",
          "data": {
            "text/plain": [
              "0.9385964912280702"
            ]
          },
          "metadata": {},
          "execution_count": 6
        }
      ]
    },
    {
      "cell_type": "code",
      "source": [
        "#Model tuning with validation set\n",
        "\n",
        "from sklearn.datasets import load_breast_cancer \n",
        "from sklearn.model_selection import train_test_split\n",
        "cancer = load_breast_cancer()\n",
        "x = cancer.data\n",
        "y = cancer.target\n",
        "x_train_all, x_test, y_train_all, y_test = train_test_split(x, y, stratify=y, test_size=0.2, random_state=42)\n"
      ],
      "metadata": {
        "id": "pyRtABeWUPWT"
      },
      "execution_count": null,
      "outputs": []
    },
    {
      "cell_type": "code",
      "source": [
        "x_train,x_val,y_train,y_val = train_test_split(x_train_all, y_train_all, stratify= y_train_all, \n",
        "                                               test_size=0.2, random_state=42)    #위에서 split한 x_train_all과 y_train_all을 각각 x_train과 x_val(validation), y_train과 y_val(validation)으로 split!! \n",
        "print(len(x_train), len(x_val))"
      ],
      "metadata": {
        "colab": {
          "base_uri": "https://localhost:8080/"
        },
        "id": "NG-v3FEOsi_5",
        "outputId": "1b138a87-0361-4a3a-bccd-c475d06a9b52"
      },
      "execution_count": null,
      "outputs": [
        {
          "output_type": "stream",
          "name": "stdout",
          "text": [
            "364 91\n"
          ]
        }
      ]
    },
    {
      "cell_type": "code",
      "source": [],
      "metadata": {
        "id": "Wz5evqyRstc9"
      },
      "execution_count": null,
      "outputs": []
    },
    {
      "cell_type": "code",
      "source": [],
      "metadata": {
        "id": "DNcueQBYsmU3"
      },
      "execution_count": null,
      "outputs": []
    },
    {
      "cell_type": "code",
      "source": [
        "#Model tuning with validation set\n",
        "\n",
        "sgd = SGDClassifier(loss='log', random_state = 42)\n",
        "sgd.fit(x_train, y_train)\n",
        "sgd.score(x_val, y_val)     #점수가 낮아진 이유는 위에서 train set의 수가 줄어들었기 때문."
      ],
      "metadata": {
        "id": "ifrU5tLVUpK9",
        "colab": {
          "base_uri": "https://localhost:8080/"
        },
        "outputId": "8dee9bbc-da43-4739-fe66-ab8f4016b09b"
      },
      "execution_count": null,
      "outputs": [
        {
          "output_type": "execute_result",
          "data": {
            "text/plain": [
              "0.6923076923076923"
            ]
          },
          "metadata": {},
          "execution_count": 10
        }
      ]
    },
    {
      "cell_type": "code",
      "source": [
        "#data scale 확인 : boxplot 활용.\n",
        "##강의pdf에는 없고 영상에만 있음##\n",
        "##강의pdf에는 없고 영상에만 있음##\n",
        "\n",
        "import numpy as np\n",
        "import matplotlib.pyplot as plt\n",
        "\n",
        "print(cancer.feature_names[[2,3]])\n",
        "plt.boxplot(x_train[:, 2:4])\n",
        "plt.xlabel('feature')\n",
        "plt.ylabel('value')\n",
        "plt.show()"
      ],
      "metadata": {
        "colab": {
          "base_uri": "https://localhost:8080/",
          "height": 297
        },
        "id": "A3RdjoLStswt",
        "outputId": "58629a39-686f-4d08-e023-3b6dfa1a4f35"
      },
      "execution_count": null,
      "outputs": [
        {
          "output_type": "stream",
          "name": "stdout",
          "text": [
            "['mean perimeter' 'mean area']\n"
          ]
        },
        {
          "output_type": "display_data",
          "data": {
            "text/plain": [
              "<Figure size 432x288 with 1 Axes>"
            ],
            "image/png": "[encoded data removed]"
          },
          "metadata": {
            "needs_background": "light"
          }
        }
      ]
    },
    {
      "cell_type": "code",
      "source": [],
      "metadata": {
        "id": "GeP6ZTGHuWnR"
      },
      "execution_count": null,
      "outputs": []
    },
    {
      "cell_type": "code",
      "source": [
        "#Update by scaling\n",
        "class SingleLayer:\n",
        "\n",
        "  def__init__(self,learning_rate=0.1):\n",
        "    self.w = None\n",
        "    self.b = None\n",
        "    self.losses=[]\n",
        "    self.w_history=[]           #추가\n",
        "    self.lr=learning_rate       #추가\n",
        "  \n",
        "  def forpass(self, x):\n",
        "    z= np.sum(x * self.w) + self.b   #직선 방정식을 계산\n",
        "\n",
        "##  Week 06_colab_practice 내용\n",
        "##  Week 06_colab_practice 내용\n",
        "\"\"\"\n",
        "class LogisticNeuron:\n",
        "  def __init__(self):\n",
        "    self.w = None\n",
        "    self.b = None\n",
        "  \n",
        "  def fwpass(self, x):\n",
        "    z = np.sum(x*self.w) + self.b\n",
        "    return z\n",
        "  \n",
        "  def bwpass(self, x, err):    #err은 어디서 나왔나?\n",
        "    w_grad = x*err\n",
        "    b_grad = 1*err\n",
        "    return w_grad, b_grad\n",
        "\n",
        "#fit() method\n",
        "  def fit(self, x, y, epochs=100):\n",
        "    self.w = np.ones(x.shape[1])   #1로 초기화\n",
        "    self.b = 0\n",
        "\n",
        "    for i in range(epochs):    #위에서 epochs=100으로 설정했으므로 100번 돌리겠다는 의미\n",
        "      for x_i, y_i in zip(x, y):   #모든 sample만큼 반복\n",
        "        z = self.fwpass(x_i)\n",
        "        a = self.activation(z)\n",
        "        err = -(y_i - a)\n",
        "        w_grad, b_grad = self.bwpass(x_i, err)\n",
        "        self.w -= w_grad         #가중치 update\n",
        "        self.b -= b_grad         #절편 update\n",
        "  \n",
        "  def activation(self, z):\n",
        "    a = 1 / (1+np.exp(-z))\n",
        "    return a\n",
        "\n",
        "#predict() method\n",
        "  def predict(self, x): \n",
        "     z = [self.fwpass(x_i) for x_i in x]\n",
        "     print(z)\n",
        "     a = self.activation(np.array(z))\n",
        "     return a > 0.5\n",
        "\"\"\"\n",
        "\n",
        "##  Week 06_colab_practice 내용\n",
        "##  Week 06_colab_practice 내용\n",
        "\n",
        "\n",
        "\n",
        "\n"
      ],
      "metadata": {
        "id": "Yp93PjCIUz59",
        "colab": {
          "base_uri": "https://localhost:8080/",
          "height": 172
        },
        "outputId": "0b8ff32e-9e57-4a08-e62c-f795b3d4fcfe"
      },
      "execution_count": null,
      "outputs": [
        {
          "output_type": "error",
          "ename": "NameError",
          "evalue": "ignored",
          "traceback": [
            "\u001b[0;31m---------------------------------------------------------------------------\u001b[0m",
            "\u001b[0;31mNameError\u001b[0m                                 Traceback (most recent call last)",
            "\u001b[0;32m<ipython-input-14-a14c0117f281>\u001b[0m in \u001b[0;36m<module>\u001b[0;34m\u001b[0m\n\u001b[0;32m----> 1\u001b[0;31m \u001b[0mself\u001b[0m\u001b[0;34m.\u001b[0m\u001b[0mb\u001b[0m\u001b[0;34m=\u001b[0m\u001b[0;32mNone\u001b[0m\u001b[0;34m\u001b[0m\u001b[0;34m\u001b[0m\u001b[0m\n\u001b[0m",
            "\u001b[0;31mNameError\u001b[0m: name 'self' is not defined"
          ]
        }
      ]
    },
    {
      "cell_type": "code",
      "source": [
        "##  Week 06_colab_practice 내용 + 내용 추가\n",
        "##  Week 06_colab_practice 내용 + 내용 추가\n",
        "\n",
        "class SingleLayerNN:\n",
        "  #Loss Function\n",
        "  def __init__(self, learning_rate = 0.1):  \n",
        "    self.w = None \n",
        "    self.b= None \n",
        "    self.losses=[]\n",
        "    self.w_history=[]                                   #추가#추가#추가#추가#추가\n",
        "    self.lr=learning_rate                               #추가#추가#추가#추가#추가\n",
        " \n",
        " #Random permutation for training samples\n",
        "  def fwpass(self, x):\n",
        "    z = np.sum(x*self.w) + self.b     #직선 방정식 계산\n",
        "    return z\n",
        "  \n",
        "  def bwpass(self, x, err):    #err은 어디서 나왔나?\n",
        "    w_grad = x*err      #가중치에 대한 그래디언트를 계산\n",
        "    b_grad = 1*err      #절편에 대한 그래디언트를 계산\n",
        "    return w_grad, b_grad\n",
        "\n",
        "  def activation(self, z):\n",
        "    z = np.clip(z, -100, None)  #안전한 np.exp()계산을 위해       #추가#추가#추가#추가\n",
        "    a = 1 / (1+np.exp(-z))      #시그모이드 계산\n",
        "    return a\n",
        "\n",
        "#fit() method\n",
        "  def fit(self, x, y, epochs=100, x_val=None, y_val=None):        #추가#추가#추가#추가 \n",
        "    self.w = np.ones(x.shape[1])           #가중치 초기화.\n",
        "    self.b = 0                             #절편 초기화.\n",
        "    self.w_history.append(self.w.copy())   #가중치 기록.           #추가#추가#추가#추가\n",
        "    np.random.seed(42)                     #랜덤 시드 지정.\n",
        "    for i in range(epochs):                #epochs만큼 반복.\n",
        "      loss = 0\n",
        "      indexes = np.random.permutation(np.arange(len(x)))\n",
        "      for i in indexes:                     #모든 샘플에 대해 반복.\n",
        "        z = self.fwpass(x[i])               #정방향 계산\n",
        "        a = self.activation(z)              #활성화 함수 적용\n",
        "        err=-(y[i] - a)                     #오차 계산 \n",
        "        w_grad,b_grad = self.bwpass(x[i],err)   #역방향 계산\n",
        "        self.w -= self.lr * w_grad               #가중치 업데이트   #추가#추가#추가#추가\n",
        "        self.b -= b_grad                          #절편 업데이트\n",
        "        self.w_history.append(self.w.copy())                        #추가#추가#추가#추가\n",
        "        #안전한로그계산을위해clipping한후loss를누적함\n",
        "        a =np.clip(a, 1e-10, 1-1e-10)\n",
        "        loss += -(y[i]*np.log(a)+(1-y[i])*np.log(1-a))\n",
        "      self.losses.append(loss/len(y))\n",
        "  \n",
        "#predict() method\n",
        "  def predict(self, x): \n",
        "     z = [self.fwpass(x_i) for x_i in x]\n",
        "     #print(z)                                                  #제거#제거#제거#제거\n",
        "     #a = self.activation(np.array(z))                          #제거#제거#제거#제거\n",
        "     return np.array(z) >= 0                                    #수정#수정#수정#수정\n",
        "     #a > 0.5                                                   #제거#제거#제거#제거\n",
        "\n",
        "#score method\n",
        "  def score(self,x,y):\n",
        "    return np.mean(self.predict(x)==y)\n",
        "\n",
        "##  Week 06_colab_practice 내용 + 내용 추가\n",
        "##  Week 06_colab_practice 내용 + 내용 추가"
      ],
      "metadata": {
        "id": "b71-Fs0nt7Cu"
      },
      "execution_count": null,
      "outputs": []
    },
    {
      "cell_type": "code",
      "source": [
        "layer1 = SingleLayerNN() \n",
        "layer1.fit(x_train, y_train) \n",
        "layer1.score(x_val,y_val)"
      ],
      "metadata": {
        "colab": {
          "base_uri": "https://localhost:8080/"
        },
        "id": "rjjEx7E2z8Q2",
        "outputId": "9f4d45c1-9d46-4e5d-e2cc-f9af95188f88"
      },
      "execution_count": null,
      "outputs": [
        {
          "output_type": "execute_result",
          "data": {
            "text/plain": [
              "0.9120879120879121"
            ]
          },
          "metadata": {},
          "execution_count": 18
        }
      ]
    },
    {
      "cell_type": "code",
      "source": [],
      "metadata": {
        "id": "O4-p_xHy0Q9k"
      },
      "execution_count": null,
      "outputs": []
    },
    {
      "cell_type": "code",
      "source": [],
      "metadata": {
        "id": "yPxyv63GvyRf"
      },
      "execution_count": null,
      "outputs": []
    },
    {
      "cell_type": "code",
      "source": [],
      "metadata": {
        "id": "unJbOgQtt41p"
      },
      "execution_count": null,
      "outputs": []
    },
    {
      "cell_type": "code",
      "source": [
        "#Update by scaling\n",
        "\n",
        "#위의 전체코드에 반영함!!\n",
        "#위의 전체코드에 반영함!!\n",
        "\n",
        "def fit(self, x, y, epochs=100): \n",
        "  self.w = np.ones(x.shape[1]) \n",
        "  self.b=0\n",
        "  self.w_history.append(self.w.copy()) \n",
        "  np.random.seed(0)\n",
        "  for i in range(epochs): \n",
        "    loss=0\n",
        "    indexes= np.random.permutation(np.arange(len(x)))\n",
        "    ...\n",
        "  self.losses.append(loss/len(y))\n",
        "\n",
        "#위의 전체코드에 반영함!!\n",
        "#위의 전체코드에 반영함!!"
      ],
      "metadata": {
        "id": "RpeQ0xosU-Cn"
      },
      "execution_count": null,
      "outputs": []
    },
    {
      "cell_type": "code",
      "source": [
        "#Update by scaling\n",
        "\n",
        "#위의 전체코드에 반영함!!\n",
        "#위의 전체코드에 반영함!!\n",
        "for i in indexes:\n",
        "  z = self.forpass(x[i])\n",
        "  a = self.activation(z)\n",
        "  err = -(y[i]-a)\n",
        "  w_grad,b_grad = self.backprop(x[i],err)\n",
        "  self.w -= self.lr*w_grad\n",
        "  self.b -= b_grad\n",
        "  self.w_history.append(self.w.copy())\n",
        "  a = np.clip(a, 1e-10, 1-1e-10)\n",
        "  loss += -(y[i] * np.log(a) + (1-y[i]) * np.log(1-a))\n",
        "\n",
        "#위의 전체코드에 반영함!!\n",
        "#위의 전체코드에 반영함!!"
      ],
      "metadata": {
        "id": "qDGu5uAhVOeX"
      },
      "execution_count": null,
      "outputs": []
    },
    {
      "cell_type": "code",
      "source": [
        "#Update by scaling\n",
        "\n",
        "layer1 = SingleLayerNN() \n",
        "layer1.fit(x_train, y_train) \n",
        "layer1.score(x_val,y_val)"
      ],
      "metadata": {
        "id": "ju_Wl7AIVrTH",
        "colab": {
          "base_uri": "https://localhost:8080/"
        },
        "outputId": "e4d8867b-675e-4b3c-b067-5a9e3e1937bd"
      },
      "execution_count": null,
      "outputs": [
        {
          "output_type": "execute_result",
          "data": {
            "text/plain": [
              "0.9120879120879121"
            ]
          },
          "metadata": {},
          "execution_count": 19
        }
      ]
    },
    {
      "cell_type": "code",
      "source": [
        "##강의pdf에는 없고 영상에만 있음##\n",
        "##강의pdf에는 없고 영상에만 있음##\n",
        "\n",
        "w2 = []\n",
        "w3 = []\n",
        "for w in layer1.w_history:\n",
        "  w2.append(w[2])\n",
        "  w3.append(w[3])\n",
        "plt.plot(w2, w3)\n",
        "plt.plot(w2[-1], w3[-1], 'ro')\n",
        "plt.xlabel('w[2]')\n",
        "plt.ylabel('w[3]')\n",
        "plt.show()"
      ],
      "metadata": {
        "colab": {
          "base_uri": "https://localhost:8080/",
          "height": 279
        },
        "id": "0e4XtMKl0WJU",
        "outputId": "a8e24a19-d11b-43b9-f14a-96107ddc1628"
      },
      "execution_count": null,
      "outputs": [
        {
          "output_type": "display_data",
          "data": {
            "text/plain": [
              "<Figure size 432x288 with 1 Axes>"
            ],
            "image/png": "[encoded data removed]"
          },
          "metadata": {
            "needs_background": "light"
          }
        }
      ]
    },
    {
      "cell_type": "code",
      "source": [
        "\n"
      ],
      "metadata": {
        "id": "aOl8GA0R1MNv"
      },
      "execution_count": null,
      "outputs": []
    },
    {
      "cell_type": "code",
      "source": [],
      "metadata": {
        "id": "KuqMm_ez05Hw"
      },
      "execution_count": null,
      "outputs": []
    },
    {
      "cell_type": "code",
      "source": [
        "#Update by scaling\n",
        "#표준화\n",
        "train_mean = np.mean(x_train, axis=0) \n",
        "train_std = np.std(x_train,axis=0)\n",
        "x_train_scaled = (x_train-train_mean) / train_std"
      ],
      "metadata": {
        "id": "X39g-RFLVv8F"
      },
      "execution_count": null,
      "outputs": []
    },
    {
      "cell_type": "code",
      "source": [
        "#표준화 후 다시 진행\n",
        "\n",
        "##강의pdf에는 없고 영상에만 있음##\n",
        "##강의pdf에는 없고 영상에만 있음##\n",
        "\n",
        "layer2 = SingleLayerNN()\n",
        "layer2.fit(x_train_scaled, y_train)\n",
        "w2 = []\n",
        "w3 = []\n",
        "for w in layer2.w_history:\n",
        "  w2.append(w[2])\n",
        "  w3.append(w[3])\n",
        "plt.plot(w2, w3)\n",
        "plt.plot(w2[-1], w3[-1], 'ro')\n",
        "plt.xlabel('w[2]')\n",
        "plt.ylabel('w[3]')\n",
        "plt.show()"
      ],
      "metadata": {
        "colab": {
          "base_uri": "https://localhost:8080/",
          "height": 279
        },
        "id": "DUEU3FRF1SIC",
        "outputId": "14e70972-37c9-4e15-9ca3-b4dbceef9712"
      },
      "execution_count": null,
      "outputs": [
        {
          "output_type": "display_data",
          "data": {
            "text/plain": [
              "<Figure size 432x288 with 1 Axes>"
            ],
            "image/png": "[encoded data removed]"
          },
          "metadata": {
            "needs_background": "light"
          }
        }
      ]
    },
    {
      "cell_type": "code",
      "source": [
        "#Update by scaling\n",
        "\n",
        "layer2.score(x_val,y_val)   #점수가 확 떨어진 이유는 validation set의 스케일을 변환하지 않았기 때문."
      ],
      "metadata": {
        "id": "28JtbzWcV4CN",
        "colab": {
          "base_uri": "https://localhost:8080/"
        },
        "outputId": "0a987d13-a9f4-4737-b76c-02d32fd8fd0f"
      },
      "execution_count": null,
      "outputs": [
        {
          "output_type": "execute_result",
          "data": {
            "text/plain": [
              "0.37362637362637363"
            ]
          },
          "metadata": {},
          "execution_count": 26
        }
      ]
    },
    {
      "cell_type": "code",
      "source": [
        "#Update by scaling\n",
        "\n",
        "val_mean = np.mean(x_val,axis=0)\n",
        "val_std = np.std(x_val,axis=0)\n",
        "x_val_scaled = (x_val-val_mean) / val_std    #위에서 언급한 validataion set의 스케일 진행\n",
        "layer2.score(x_val_scaled, y_val)"
      ],
      "metadata": {
        "id": "1dJHfdNRV7Rg",
        "colab": {
          "base_uri": "https://localhost:8080/"
        },
        "outputId": "44647cdf-803a-4202-f2a8-55768d3294de"
      },
      "execution_count": null,
      "outputs": [
        {
          "output_type": "execute_result",
          "data": {
            "text/plain": [
              "0.967032967032967"
            ]
          },
          "metadata": {},
          "execution_count": 27
        }
      ]
    },
    {
      "cell_type": "code",
      "source": [],
      "metadata": {
        "id": "6fa-HqAA2Sgp"
      },
      "execution_count": null,
      "outputs": []
    },
    {
      "cell_type": "code",
      "source": [
        "#Notice in scaling\n",
        "\n",
        "plt.plot(x_train[:50,0], x_train[:50,1], 'bo')\n",
        "plt.plot(x_val[:50,0], x_val[:50,1], 'ro')\n",
        "plt.xlabel('feature1')\n",
        "plt.ylabel('feature 2')\n",
        "plt.legend(['train set', 'val.set'])\n",
        "plt.show()\n",
        "\n"
      ],
      "metadata": {
        "id": "02ibPPraWHEC",
        "colab": {
          "base_uri": "https://localhost:8080/",
          "height": 279
        },
        "outputId": "4a7d19b3-61b4-4325-fa31-57b84bd9c467"
      },
      "execution_count": null,
      "outputs": [
        {
          "output_type": "display_data",
          "data": {
            "text/plain": [
              "<Figure size 432x288 with 1 Axes>"
            ],
            "image/png": "[encoded data removed]"
          },
          "metadata": {
            "needs_background": "light"
          }
        }
      ]
    },
    {
      "cell_type": "code",
      "source": [],
      "metadata": {
        "id": "fAyISk5s2XpO"
      },
      "execution_count": null,
      "outputs": []
    },
    {
      "cell_type": "code",
      "source": [
        "plt.plot(x_train_scaled[:50,0], x_train_scaled[:50,1], 'bo')\n",
        "plt.plot(x_val_scaled[:50,0], x_val_scaled[:50,1], 'ro')\n",
        "plt.xlabel('feature1')\n",
        "plt.ylabel('feature 2') \n",
        "plt.legend(['train set', 'val.set'])\n",
        "plt.show()                            #위와 모양과 거리가 조금씩 다르다.  -->  다르면 안됨."
      ],
      "metadata": {
        "colab": {
          "base_uri": "https://localhost:8080/",
          "height": 279
        },
        "id": "UeQYFBM22XEo",
        "outputId": "cd1ed3a7-0fbf-4474-990d-44d1781ac3a0"
      },
      "execution_count": null,
      "outputs": [
        {
          "output_type": "display_data",
          "data": {
            "text/plain": [
              "<Figure size 432x288 with 1 Axes>"
            ],
            "image/png": "[encoded data removed]"
          },
          "metadata": {
            "needs_background": "light"
          }
        }
      ]
    },
    {
      "cell_type": "code",
      "source": [],
      "metadata": {
        "id": "JZu6SvyG2YoY"
      },
      "execution_count": null,
      "outputs": []
    },
    {
      "cell_type": "code",
      "source": [
        "#Notice in scaling\n",
        "\n",
        "x_val_scaled = (x_val - train_mean) / train_std        #이를 통해 위의 거리와 모양이 달랐던 문제 해결! \n",
        "plt.plot(x_train_scaled[:50,0], x_train_scaled[:50,1], 'bo')\n",
        "plt.plot(x_val_scaled[:50,0], x_val_scaled[:50,1], 'ro')\n",
        "plt.xlabel('feature1')\n",
        "plt.ylabel('feature 2') \n",
        "plt.legend(['train set', 'val.set']) \n",
        "plt.show()"
      ],
      "metadata": {
        "id": "Foa-REImWbBy",
        "colab": {
          "base_uri": "https://localhost:8080/",
          "height": 279
        },
        "outputId": "d084ac0d-157f-4439-fad7-0e297710cc6e"
      },
      "execution_count": null,
      "outputs": [
        {
          "output_type": "display_data",
          "data": {
            "text/plain": [
              "<Figure size 432x288 with 1 Axes>"
            ],
            "image/png": "[encoded data removed]"
          },
          "metadata": {
            "needs_background": "light"
          }
        }
      ]
    },
    {
      "cell_type": "code",
      "source": [],
      "metadata": {
        "id": "sW3WY4M52f0A"
      },
      "execution_count": null,
      "outputs": []
    },
    {
      "cell_type": "code",
      "source": [
        "#Notice in scaling\n",
        "\n",
        "layer2.score(x_val_scaled, y_val)"
      ],
      "metadata": {
        "id": "5CuxpUM1Wnl9",
        "colab": {
          "base_uri": "https://localhost:8080/"
        },
        "outputId": "4d760f2c-d31c-4377-be06-487018ec4f05"
      },
      "execution_count": null,
      "outputs": [
        {
          "output_type": "execute_result",
          "data": {
            "text/plain": [
              "0.967032967032967"
            ]
          },
          "metadata": {},
          "execution_count": 31
        }
      ]
    },
    {
      "cell_type": "code",
      "source": [],
      "metadata": {
        "id": "nD-mllyV2wmk"
      },
      "execution_count": null,
      "outputs": []
    }
  ]
}